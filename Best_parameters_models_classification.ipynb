{
 "cells": [
  {
   "metadata": {
    "ExecuteTime": {
     "end_time": "2025-03-23T15:12:10.078859Z",
     "start_time": "2025-03-23T15:12:09.183162Z"
    }
   },
   "cell_type": "code",
   "source": [
    "import pandas as pd\n",
    "import numpy as np\n",
    "import sklearn\n",
    "\n",
    "from sklearn.pipeline import Pipeline\n",
    "from sklearn.preprocessing import PolynomialFeatures, OneHotEncoder, OrdinalEncoder, RobustScaler, MinMaxScaler, StandardScaler\n",
    "from sklearn.feature_selection import SelectKBest, f_classif\n",
    "\n",
    "from sklearn.compose import ColumnTransformer\n",
    "from sklearn.decomposition import PCA\n",
    "from sklearn.model_selection import train_test_split, GridSearchCV\n",
    "#modelos\n",
    "from sklearn.linear_model import LogisticRegression\n",
    "from sklearn.neighbors import KNeighborsClassifier\n",
    "from sklearn.ensemble import RandomForestClassifier\n",
    "from sklearn.tree import DecisionTreeClassifier\n"
   ],
   "id": "ce413f8fb38edd2",
   "outputs": [],
   "execution_count": 11
  },
  {
   "metadata": {
    "ExecuteTime": {
     "end_time": "2025-03-23T15:15:45.284213Z",
     "start_time": "2025-03-23T15:15:44.859234Z"
    }
   },
   "cell_type": "code",
   "source": "df = pd.read_csv(\"credit.csv\")",
   "id": "3519110fb0247c8d",
   "outputs": [],
   "execution_count": 13
  },
  {
   "metadata": {
    "ExecuteTime": {
     "end_time": "2025-03-23T15:19:57.696343Z",
     "start_time": "2025-03-23T15:19:57.181258Z"
    }
   },
   "cell_type": "code",
   "source": [
    "columna_tipo_prestamos = 'Type_of_Loan'\n",
    "\n",
    "# Reemplazamos \"No Data\" por \"No Loan\"\n",
    "df[columna_tipo_prestamos] = df[columna_tipo_prestamos].replace(\"No Data\", \"No Loan\")\n",
    "\n",
    "# Eliminamos el conector \"and\" en los nombres de los préstamos\n",
    "df[columna_tipo_prestamos] = df[columna_tipo_prestamos].replace(r\"\\band\\b\", \"\", regex=True)\n",
    "\n",
    "\n",
    "# Convertimos la columna a listas correctamente\n",
    "df[columna_tipo_prestamos] = df[columna_tipo_prestamos].apply(lambda x: [f'\"{item.strip()}\"' for item in x.split(\",\")] if isinstance(x, str) else [])\n",
    "\n",
    "# Aplicamos MultiLabelBinarizer solo una vez\n",
    "mlb = sklearn.preprocessing.MultiLabelBinarizer()\n",
    "encoded_loans = mlb.fit_transform(df[columna_tipo_prestamos])\n",
    "\n",
    "# Convertimos la matriz en un DataFrame con nombres de columnas\n",
    "df_encoded = pd.DataFrame(encoded_loans, columns=mlb.classes_)\n",
    "\n",
    "\n",
    "# QUITAR LAS COMILLAS DOBLES de los nombres de las columnas en df_encoded\n",
    "df_encoded.columns = df_encoded.columns.str.replace('\"', '', regex=False)\n",
    "\n",
    "\n",
    "# Concatenamos el DataFrame codificado con el original\n",
    "df = pd.concat([df, df_encoded], axis=1)\n",
    "\n",
    "\n",
    "df.pop(\"Type_of_Loan\")\n",
    "# Mapeamos la columna 'Credit_Score' a valores numéricos\n",
    "df['Credit_Score'] = df['Credit_Score'].map({'Good': 0, 'Poor': 1, 'Standard': 2})\n",
    "\n",
    "# Movemos la columna al final\n",
    "credit_score_column = df.pop('Credit_Score')  # Extrae la columna ya mapeada\n",
    "df['Credit_Score'] = credit_score_column      # La vuelve a insertar al final"
   ],
   "id": "dfde1f145da1edcb",
   "outputs": [],
   "execution_count": 14
  },
  {
   "metadata": {
    "ExecuteTime": {
     "end_time": "2025-03-23T15:20:27.963063Z",
     "start_time": "2025-03-23T15:20:27.917749Z"
    }
   },
   "cell_type": "code",
   "source": [
    "# Cremos nuevas variables derivadas de las originales que ayudan a mejorar la predicción crediticia\n",
    "\n",
    "# Evitar división por cero en cada nueva variable derivada\n",
    "df[\"Debt_to_Income_Ratio\"] = df[\"Outstanding_Debt\"] / (df[\"Annual_Income\"].replace(0, 1e-6))\n",
    "df[\"Loan_to_Income_Ratio\"] = (df[\"Total_EMI_per_month\"] * 12) / (df[\"Annual_Income\"].replace(0, 1e-6))\n",
    "df[\"Credit_Card_to_Bank_Account_Ratio\"] = df[\"Num_Credit_Card\"] / (df[\"Num_Bank_Accounts\"].replace(0, 1e-6))\n",
    "df[\"Credit_Age_per_Loan\"] = df[\"Credit_History_Age\"] / (df[\"Num_of_Loan\"] + 1)  # +1 evita división por cero\n",
    "df[\"Credit_Inquiries_per_Year\"] = df[\"Num_Credit_Inquiries\"] / (df[\"Credit_History_Age\"] + 1)  # +1 evita división por cero\n",
    "df[\"Delayed_Payment_Ratio\"] = df[\"Num_of_Delayed_Payment\"] / (df[\"Num_of_Loan\"] + 1)  # +1 evita división por cero\n",
    "\n",
    "\n",
    "# Ahora podemos calcular el target encoding correctamente\n",
    "occupation_target_mean = df.groupby(\"Occupation\")[\"Credit_Score\"].mean()\n",
    "df[\"Occupation_encoded\"] = df[\"Occupation\"].map(occupation_target_mean)\n",
    "# Eliminamos la columna original de \"Occupation\"\n",
    "df.pop(\"Occupation\")\n",
    "\n",
    "# Definir el orden de las categorías \"Payment_Behaviour\"\n",
    "payment_order = [\n",
    "    \"Low_spent_Small_value_payments\",\n",
    "    \"High_spent_Small_value_payments\",\n",
    "    \"Low_spent_Medium_value_payments\",\n",
    "    \"High_spent_Medium_value_payments\",\n",
    "    \"Low_spent_Large_value_payments\",\n",
    "    \"High_spent_Large_value_payments\"\n",
    "]"
   ],
   "id": "f84ffe39939c2aba",
   "outputs": [],
   "execution_count": 15
  },
  {
   "metadata": {
    "ExecuteTime": {
     "end_time": "2025-03-23T15:20:58.639241Z",
     "start_time": "2025-03-23T15:20:58.462552Z"
    }
   },
   "cell_type": "code",
   "source": [
    "column_transformer = ColumnTransformer(transformers=[\n",
    "    (\"x1\", MinMaxScaler(), [\"Age\"]),\n",
    "    (\"x2\", MinMaxScaler(), [\"Occupation_encoded\"]),\n",
    "    (\"x3\", RobustScaler(), [\"Annual_Income\"]),\n",
    "    #(\"x4\", RobustScaler(), [\"Monthly_Inhand_Salary\"]),\n",
    "    (\"x5\", MinMaxScaler(), [\"Num_Bank_Accounts\"]),\n",
    "    (\"x6\", MinMaxScaler(), [\"Num_Credit_Card\"]),\n",
    "    (\"x7\", MinMaxScaler(), [\"Interest_Rate\"]),\n",
    "    (\"x8\", MinMaxScaler(),[\"Num_of_Loan\"]),\n",
    "    (\"x9\", \"passthrough\", ['Auto Loan']),\n",
    "    (\"x10\",\"passthrough\", ['Credit-Builder Loan']),\n",
    "    (\"x11\", \"passthrough\", ['Debt Consolidation Loan']),\n",
    "    (\"x12\", \"passthrough\", ['Home Equity Loan']),\n",
    "    (\"x13\", \"passthrough\", ['Mortgage Loan']),\n",
    "    (\"x14\", \"passthrough\", ['No Loan']),\n",
    "    (\"x15\", \"passthrough\", ['Not Specified']),\n",
    "    (\"x16\", \"passthrough\", ['Payday Loan']),\n",
    "    (\"x17\", \"passthrough\", ['Personal Loan']),\n",
    "    (\"x18\", \"passthrough\", ['Student Loan']),\n",
    "\n",
    "    (\"x19\", RobustScaler(),[\"Delay_from_due_date\"]),\n",
    "\n",
    "    #(\"x20\", MinMaxScaler(),[\"Num_of_Delayed_Payment\"]),\n",
    "    (\"x21\", RobustScaler(),[\"Changed_Credit_Limit\"]),    # mejora 2%\n",
    "    #(\"x22\", RobustScaler(),[\"Num_Credit_Inquiries\"]),\n",
    "\n",
    "\n",
    "    (\"x23\", OrdinalEncoder(categories=[[\"Bad\", \"Standard\", \"Good\"]]) , ['Credit_Mix']), # mejora 2%\n",
    "    (\"x24\", RobustScaler(), ['Outstanding_Debt']), # mejora 1%\n",
    "    (\"x25\", RobustScaler(), ['Credit_Utilization_Ratio']),\n",
    "    (\"x26\", RobustScaler(), ['Credit_History_Age']),\n",
    "    (\"x27\", OrdinalEncoder(categories=[[\"No\", \"NM\", \"Yes\"]]), ['Payment_of_Min_Amount']),\n",
    "    (\"x28\", MinMaxScaler(), ['Total_EMI_per_month']),\n",
    "    #(\"x29\", MinMaxScaler(), ['Amount_invested_monthly']),\n",
    "    #(\"x30\", OrdinalEncoder(categories=[payment_order]) , ['Payment_Behaviour']),\n",
    "    #(\"x31\", MinMaxScaler(), ['Monthly_Balance']),\n",
    "\n",
    "    # Variables derivadas agregadas aquí\n",
    "    (\"x32\", RobustScaler(), [\"Debt_to_Income_Ratio\"]),# 74.11\n",
    "    (\"x33\", RobustScaler(), [\"Loan_to_Income_Ratio\"]), # 74.11\n",
    "    (\"x34\", MinMaxScaler(), [\"Credit_Card_to_Bank_Account_Ratio\"]), # 74.11\n",
    "    (\"x35\", MinMaxScaler(), [\"Credit_Age_per_Loan\"]), # 74.11\n",
    "    (\"x36\", MinMaxScaler(), [\"Credit_Inquiries_per_Year\"]), # 74.11\n",
    "    (\"x37\", MinMaxScaler(), [\"Delayed_Payment_Ratio\"]), #74.11\n",
    "\n",
    "    (\"y\", \"passthrough\", [\"Credit_Score\"])\n",
    "])\n",
    "transformed_data = column_transformer.fit_transform(df)\n",
    "# Verificamos la forma de los datos transformados\n",
    "print(\"Forma después de transformación:\", transformed_data.shape)\n",
    "# Obtenemos nombres de columnas transformadas\n",
    "column_names = column_transformer.get_feature_names_out()\n",
    "\n",
    "# Convertimos en DataFrame\n",
    "df_transformed = pd.DataFrame(transformed_data, columns=column_names)\n",
    "\n",
    "print(\"Transformación completada\")\n",
    "print(df_transformed.columns)\n",
    "print(df_transformed.shape)"
   ],
   "id": "2c231dd691d431dc",
   "outputs": [
    {
     "name": "stdout",
     "output_type": "stream",
     "text": [
      "Forma después de transformación: (80000, 32)\n",
      "Transformación completada\n",
      "Index(['x1__Age', 'x2__Occupation_encoded', 'x3__Annual_Income',\n",
      "       'x5__Num_Bank_Accounts', 'x6__Num_Credit_Card', 'x7__Interest_Rate',\n",
      "       'x8__Num_of_Loan', 'x9__Auto Loan', 'x10__Credit-Builder Loan',\n",
      "       'x11__Debt Consolidation Loan', 'x12__Home Equity Loan',\n",
      "       'x13__Mortgage Loan', 'x14__No Loan', 'x15__Not Specified',\n",
      "       'x16__Payday Loan', 'x17__Personal Loan', 'x18__Student Loan',\n",
      "       'x19__Delay_from_due_date', 'x21__Changed_Credit_Limit',\n",
      "       'x23__Credit_Mix', 'x24__Outstanding_Debt',\n",
      "       'x25__Credit_Utilization_Ratio', 'x26__Credit_History_Age',\n",
      "       'x27__Payment_of_Min_Amount', 'x28__Total_EMI_per_month',\n",
      "       'x32__Debt_to_Income_Ratio', 'x33__Loan_to_Income_Ratio',\n",
      "       'x34__Credit_Card_to_Bank_Account_Ratio', 'x35__Credit_Age_per_Loan',\n",
      "       'x36__Credit_Inquiries_per_Year', 'x37__Delayed_Payment_Ratio',\n",
      "       'y__Credit_Score'],\n",
      "      dtype='object')\n",
      "(80000, 32)\n"
     ]
    }
   ],
   "execution_count": 16
  },
  {
   "metadata": {
    "ExecuteTime": {
     "end_time": "2025-03-23T15:21:21.655197Z",
     "start_time": "2025-03-23T15:21:21.651904Z"
    }
   },
   "cell_type": "code",
   "source": [
    "# Separamos las variables predictoras (X) y la variable objetivo (y)\n",
    "X = df_transformed.iloc[:, :-1]  # Variables independientes\n",
    "y = df_transformed.iloc[:, -1]   # Variable objetivo (variable dependiente)"
   ],
   "id": "5d3b2035c6181dc6",
   "outputs": [],
   "execution_count": 17
  },
  {
   "metadata": {},
   "cell_type": "markdown",
   "source": "Buscamos los mejores parámetros para Regresión logística",
   "id": "c6bdf7bab9947fb7"
  },
  {
   "metadata": {
    "ExecuteTime": {
     "end_time": "2025-03-23T18:16:12.911464Z",
     "start_time": "2025-03-23T18:14:55.083552Z"
    }
   },
   "cell_type": "code",
   "source": [
    "# Dividimos: TEST separado\n",
    "X_train, X_test, y_train, y_test = train_test_split(X, y, test_size=0.3, random_state=42)\n",
    "\n",
    "# Pipeline 1: PCA + Regresión\n",
    "# ###########################\n",
    "pipe_pca_rl = Pipeline([ ('pca', PCA(random_state=42)), ('clf', LogisticRegression(max_iter=500, class_weight='balanced'))])\n",
    "param_grid_pca_rl = { 'pca__n_components': [10, 15, 20], 'clf__penalty': ['l2'], 'clf__C': [0.01, 0.1, 1, 10], 'clf__solver': ['lbfgs', 'liblinear']\n",
    "}\n",
    "grid_pca_rl = GridSearchCV(pipe_pca_rl, param_grid_pca_rl, cv=5, scoring='accuracy', n_jobs=-1, verbose=2)\n",
    "grid_pca_rl.fit(X_train, y_train)\n",
    "\n",
    "# Pipeline 2: SelectKBest + Regresión Logística\n",
    "###############################################\n",
    "pipe_kbest_rl = Pipeline([ ('select', SelectKBest(score_func=f_classif)), ('clf', LogisticRegression(max_iter=500, class_weight='balanced')) ])\n",
    "param_grid_kbest_rl = {'select__k': [8, 10, 15, 20], 'clf__penalty': ['l2'], 'clf__C': [0.01, 0.1, 1, 10],'clf__solver': ['lbfgs', 'liblinear']\n",
    "}\n",
    "grid_kbest_rl = GridSearchCV(pipe_kbest_rl, param_grid_kbest_rl, cv=5, scoring='accuracy', n_jobs=-1, verbose=2)\n",
    "grid_kbest_rl.fit(X_train, y_train)\n",
    "\n",
    "# Mostramos resultados:\n",
    "print(\"PCA + Logistic Regression - Best Params:\", grid_pca_rl.best_params_)\n",
    "print(\"Accuracy CV:\", grid_pca.best_score_)\n",
    "\n",
    "print(\"SelectKBest + Logistic Regression - Best Params:\", grid_kbest_rl.best_params_)\n",
    "print(\"Accuracy CV:\", grid_kbest.best_score_)\n",
    "\n"
   ],
   "id": "3d55d7b794b9de0f",
   "outputs": [
    {
     "name": "stdout",
     "output_type": "stream",
     "text": [
      "Fitting 5 folds for each of 24 candidates, totalling 120 fits\n",
      "Fitting 5 folds for each of 32 candidates, totalling 160 fits\n",
      "PCA + Logistic Regression - Best Params: {'clf__C': 0.01, 'clf__penalty': 'l2', 'clf__solver': 'liblinear', 'pca__n_components': 20}\n",
      "Accuracy CV: 0.635375\n",
      "SelectKBest + Logistic Regression - Best Params: {'clf__C': 0.1, 'clf__penalty': 'l2', 'clf__solver': 'liblinear', 'select__k': 20}\n",
      "Accuracy CV: 0.6530178571428571\n"
     ]
    }
   ],
   "execution_count": 36
  },
  {
   "metadata": {},
   "cell_type": "markdown",
   "source": "Buscamos los mejor parámetro para knn",
   "id": "2ca4c4bd99050e58"
  },
  {
   "metadata": {
    "ExecuteTime": {
     "end_time": "2025-03-23T18:24:59.245136Z",
     "start_time": "2025-03-23T18:22:48.698996Z"
    }
   },
   "cell_type": "code",
   "source": [
    "# Pipeline 1: PCA + KNN\n",
    "# #####################\n",
    "pipeline_pca = Pipeline([('pca', PCA(random_state=42)),('knn', KNeighborsClassifier())])\n",
    "\n",
    "param_dist_pca = {'pca__n_components': [10, 15, 20],'knn__n_neighbors': np.arange(5, 11),'knn__weights': ['uniform', 'distance'],'knn__p': [1, 2] }\n",
    "\n",
    "search_pca = RandomizedSearchCV( pipeline_pca, param_distributions=param_dist_pca, n_iter=8, cv=3, scoring='accuracy', n_jobs=-1, verbose=2, random_state=42 )\n",
    "\n",
    "search_pca.fit(X_train, y_train)\n",
    "\n",
    "print(\"Mejor PCA + KNN:\", search_pca.best_params_)\n",
    "print(\"Accuracy en CV (PCA + KNN):\", search_pca.best_score_)\n",
    "\n",
    "# Pipeline 2: SelectKBest + KNN\n",
    "###############################\n",
    "pipeline_kbest = Pipeline([ ('scaler', StandardScaler()), ('select', SelectKBest(score_func=f_classif)), ('knn', KNeighborsClassifier()) ])\n",
    "\n",
    "param_dist_kbest = { 'select__k': [8, 10, 15, 20], 'knn__n_neighbors': np.arange(5, 11), 'knn__weights': ['uniform', 'distance'], 'knn__p': [1, 2] }\n",
    "\n",
    "search_kbest = RandomizedSearchCV( pipeline_kbest, param_distributions=param_dist_kbest, n_iter=8, cv=3, scoring='accuracy', n_jobs=-1, verbose=2, random_state=42 )\n",
    "\n",
    "search_kbest.fit(X_train, y_train)\n",
    "\n",
    "print(\"Mejor SelectKBest + KNN:\", search_kbest.best_params_)\n",
    "print(\"Accuracy en CV (SelectKBest + KNN):\", search_kbest.best_score_)\n"
   ],
   "id": "c7ad5ea8b6519dfc",
   "outputs": [
    {
     "name": "stdout",
     "output_type": "stream",
     "text": [
      "Fitting 3 folds for each of 8 candidates, totalling 24 fits\n",
      "Mejor PCA + KNN: {'pca__n_components': 15, 'knn__weights': 'distance', 'knn__p': 1, 'knn__n_neighbors': np.int64(7)}\n",
      "Accuracy en CV (PCA + KNN): 0.7181428391056363\n",
      "Fitting 3 folds for each of 8 candidates, totalling 24 fits\n",
      "Mejor SelectKBest + KNN: {'select__k': 10, 'knn__weights': 'distance', 'knn__p': 1, 'knn__n_neighbors': np.int64(9)}\n",
      "Accuracy en CV (SelectKBest + KNN): 0.7691784446847127\n"
     ]
    }
   ],
   "execution_count": 37
  },
  {
   "metadata": {},
   "cell_type": "markdown",
   "source": "Buscando los mejores parámetros para Random Forest",
   "id": "7daffe127ba08a50"
  },
  {
   "metadata": {
    "ExecuteTime": {
     "end_time": "2025-03-23T18:41:58.746207Z",
     "start_time": "2025-03-23T18:29:12.925490Z"
    }
   },
   "cell_type": "code",
   "source": [
    "# Pipeline 1: PCA + Random Forest\n",
    "##########################################################\n",
    "pipe_pca_rf = Pipeline([ ('pca', PCA(random_state=42)), ('clf', RandomForestClassifier(random_state=42, class_weight='balanced')) ])\n",
    "\n",
    "param_grid_pca_rf = { 'pca__n_components': [10, 15, 25], 'clf__n_estimators': [30, 140], 'clf__max_depth': [None,10,25], 'clf__min_samples_split': [2, 10],}\n",
    "\n",
    "grid_pca_rf = GridSearchCV(pipe_pca_rf, param_grid_pca_rf, cv=3, scoring='accuracy', n_jobs=-1, verbose=2)\n",
    "grid_pca_rf.fit(X_train, y_train)\n",
    "\n",
    "# Pipeline 2: SelectKBest + Random Forest\n",
    "##########################################\n",
    "pipe_kbest_rf = Pipeline([ ('select', SelectKBest(score_func=f_classif)), ('clf', RandomForestClassifier(random_state=42, class_weight='balanced')) ])\n",
    "\n",
    "param_grid_kbest_rf = { 'select__k': [8, 10], 'clf__n_estimators': [30, 140], 'clf__max_depth': [None, 10, 25], 'clf__min_samples_split': [2, 10],}\n",
    "\n",
    "grid_kbest_rf = GridSearchCV(pipe_kbest_rf, param_grid_kbest_rf, cv=3, scoring='accuracy', n_jobs=-1, verbose=2)\n",
    "grid_kbest_rf.fit(X_train, y_train)\n",
    "\n",
    "# Resultados y Evaluación Final\n",
    "##########################################################\n",
    "\n",
    "print(\"PCA + Random Forest - Best Params:\", grid_pca_rf.best_params_)\n",
    "print(\"Accuracy CV:\", grid_pca_rf.best_score_)\n",
    "\n",
    "print(\"SelectKBest + Random Forest - Best Params:\", grid_kbest_rf.best_params_)\n",
    "print(\"Accuracy CV:\", grid_kbest_rf.best_score_)\n"
   ],
   "id": "b30eb452f080abe1",
   "outputs": [
    {
     "name": "stdout",
     "output_type": "stream",
     "text": [
      "Fitting 3 folds for each of 36 candidates, totalling 108 fits\n",
      "Fitting 3 folds for each of 24 candidates, totalling 72 fits\n",
      "PCA + Random Forest - Best Params: {'clf__max_depth': None, 'clf__min_samples_split': 10, 'clf__n_estimators': 140, 'pca__n_components': 25}\n",
      "Accuracy CV: 0.7681428636915347\n",
      "SelectKBest + Random Forest - Best Params: {'clf__max_depth': 25, 'clf__min_samples_split': 2, 'clf__n_estimators': 140, 'select__k': 10}\n",
      "Accuracy CV: 0.7847856551550575\n"
     ]
    }
   ],
   "execution_count": 38
  },
  {
   "metadata": {},
   "cell_type": "markdown",
   "source": "Buscamos los mejores parámetros para el modelo Arbol de decision",
   "id": "2286a1b7e7c8521f"
  },
  {
   "metadata": {
    "ExecuteTime": {
     "end_time": "2025-03-23T17:36:19.336157Z",
     "start_time": "2025-03-23T17:34:49.137570Z"
    }
   },
   "cell_type": "code",
   "source": [
    "# Pipeline 1: PCA + Decision Tree\n",
    "##########################################################\n",
    "pipe_pca_dt = Pipeline([ ('pca', PCA(random_state=42)), ('clf', DecisionTreeClassifier(random_state=42, class_weight='balanced')) ])\n",
    "\n",
    "param_grid_pca_dt = { 'pca__n_components': [10, 15, 25], 'clf__max_depth': [None, 10, 25], 'clf__min_samples_split': [2, 10], 'clf__min_samples_leaf': [1, 5] }\n",
    "\n",
    "grid_pca_dt = GridSearchCV(pipe_pca_dt, param_grid_pca_dt, cv=3, scoring='accuracy', n_jobs=-1, verbose=2)\n",
    "grid_pca_dt.fit(X_train, y_train)\n",
    "\n",
    "# Pipeline 2: SelectKBest + Decision Tree\n",
    "#########################################\n",
    "pipe_kbest_dt = Pipeline([ ('select', SelectKBest(score_func=f_classif)), ('clf', DecisionTreeClassifier(random_state=42, class_weight='balanced')) ])\n",
    "\n",
    "param_grid_kbest_dt = {'select__k': [8, 10],'clf__max_depth': [None, 10, 25],'clf__min_samples_split': [2, 10] 'clf__min_samples_leaf': [1, 5]\n",
    "}\n",
    "\n",
    "grid_kbest_dt = GridSearchCV(pipe_kbest_dt, param_grid_kbest_dt, cv=3, scoring='accuracy', n_jobs=-1, verbose=2)\n",
    "grid_kbest_dt.fit(X_train, y_train)\n",
    "\n",
    "# Resultados y Evaluación Final\n",
    "###############################\n",
    "\n",
    "print(\"PCA + Decision Tree - Best Params:\", grid_pca_dt.best_params_)\n",
    "print(\"Accuracy CV:\", grid_pca_dt.best_score_)\n",
    "\n",
    "print(\"SelectKBest + Decision Tree - Best Params:\", grid_kbest_dt.best_params_)\n",
    "print(\"Accuracy CV:\", grid_kbest_dt.best_score_)\n"
   ],
   "id": "e83b305494405439",
   "outputs": [
    {
     "name": "stdout",
     "output_type": "stream",
     "text": [
      "Fitting 3 folds for each of 12 candidates, totalling 36 fits\n",
      "Fitting 3 folds for each of 36 candidates, totalling 108 fits\n",
      "Fitting 3 folds for each of 24 candidates, totalling 72 fits\n",
      "Decision Tree Puro - Best Params: {'clf__max_depth': 25, 'clf__min_samples_leaf': 1, 'clf__min_samples_split': 2}\n",
      "Accuracy CV: 0.7340713834392907\n",
      "PCA + Decision Tree - Best Params: {'clf__max_depth': 25, 'clf__min_samples_leaf': 1, 'clf__min_samples_split': 2, 'pca__n_components': 25}\n",
      "Accuracy CV: 0.6870179835398961\n",
      "SelectKBest + Decision Tree - Best Params: {'clf__max_depth': 25, 'clf__min_samples_leaf': 1, 'clf__min_samples_split': 2, 'select__k': 10}\n",
      "Accuracy CV: 0.7558570645750415\n",
      "Evaluación FINAL sobre Test Set (nunca visto):\n",
      "\n",
      "Decision Tree Puro:\n",
      "               precision    recall  f1-score   support\n",
      "\n",
      "         0.0       0.67      0.75      0.71      4259\n",
      "         1.0       0.75      0.79      0.77      7013\n",
      "         2.0       0.80      0.74      0.77     12728\n",
      "\n",
      "    accuracy                           0.76     24000\n",
      "   macro avg       0.74      0.76      0.75     24000\n",
      "weighted avg       0.76      0.76      0.76     24000\n",
      "\n",
      "PCA + Decision Tree:\n",
      "               precision    recall  f1-score   support\n",
      "\n",
      "         0.0       0.60      0.71      0.65      4259\n",
      "         1.0       0.69      0.73      0.71      7013\n",
      "         2.0       0.77      0.70      0.74     12728\n",
      "\n",
      "    accuracy                           0.71     24000\n",
      "   macro avg       0.69      0.71      0.70     24000\n",
      "weighted avg       0.72      0.71      0.71     24000\n",
      "\n",
      "SelectKBest + Decision Tree:\n",
      "               precision    recall  f1-score   support\n",
      "\n",
      "         0.0       0.70      0.74      0.72      4259\n",
      "         1.0       0.74      0.82      0.78      7013\n",
      "         2.0       0.81      0.75      0.78     12728\n",
      "\n",
      "    accuracy                           0.77     24000\n",
      "   macro avg       0.75      0.77      0.76     24000\n",
      "weighted avg       0.77      0.77      0.77     24000\n",
      "\n"
     ]
    }
   ],
   "execution_count": 34
  }
 ],
 "metadata": {
  "kernelspec": {
   "display_name": "Python 3",
   "language": "python",
   "name": "python3"
  },
  "language_info": {
   "codemirror_mode": {
    "name": "ipython",
    "version": 2
   },
   "file_extension": ".py",
   "mimetype": "text/x-python",
   "name": "python",
   "nbconvert_exporter": "python",
   "pygments_lexer": "ipython2",
   "version": "2.7.6"
  }
 },
 "nbformat": 4,
 "nbformat_minor": 5
}
